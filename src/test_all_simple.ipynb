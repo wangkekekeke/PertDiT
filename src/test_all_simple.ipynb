{
 "cells": [
  {
   "cell_type": "code",
   "execution_count": null,
   "metadata": {},
   "outputs": [],
   "source": [
    "from utils.cal_metrics import *\n",
    "from utils.plot import *\n",
    "col_names = ['R2_per_sample','Pearson_per_sample','PCC_logFC_cov_drug_dose_common',\n",
    "             'R2_cov_drug_dose','PCC_logFC_cov_drug_common','R2_cov_drug',\n",
    "             'PCC_logFC_drug_dose','R2_drug_dose','PCC_logFC_cov_drug_dose',\n",
    "             'PCC_logFC_drug','R2_drug','PCC_logFC_cov_drug', 'R2_logFC_per_sample', 'PCC_logFC_per_sample']"
   ]
  },
  {
   "cell_type": "markdown",
   "metadata": {},
   "source": [
    "# Calculate matrics for All methods with recording"
   ]
  },
  {
   "cell_type": "code",
   "execution_count": null,
   "metadata": {},
   "outputs": [],
   "source": [
    "import os\n",
    "parent_folder = 'data/result/Both_unseen'\n",
    "for root, dirs, _ in os.walk(parent_folder):\n",
    "    for dir_name in dirs:\n",
    "        # print(dir_name)\n",
    "        if os.path.exists('data/res_tables/'+dir_name+'_mysplit.csv'):\n",
    "            print(dir_name+' already recorded')\n",
    "        elif os.path.exists(parent_folder+'/'+dir_name+'/'+'total_y_pred.pkl'):\n",
    "            print(dir_name)\n",
    "            method_name = dir_name\n",
    "            res_dict_Cross_0 = cal_metrics_of_one_method_mysplit(method_name)\n",
    "            res_pd = pd.DataFrame(res_dict_Cross_0.values(), index=res_dict_Cross_0.keys(), columns=col_names)\n",
    "            res_pd.to_csv('data/res_tables/'+method_name+'_mysplit.csv')"
   ]
  },
  {
   "cell_type": "markdown",
   "metadata": {},
   "source": [
    "# Plot metrics of each method"
   ]
  },
  {
   "cell_type": "code",
   "execution_count": null,
   "metadata": {},
   "outputs": [],
   "source": [
    "# select 10 metrics and plot with heatmap\n",
    "data = pd.read_csv('data/result/CrossDiT_mysplit.csv',index_col=0)\n",
    "plot_heatmap(data.iloc[:,[0,3,5,7,10,13,8,11,6,9]], \"CrossDiT\")\n",
    "data = pd.read_csv('data/result/CatCrossDiT_mysplit.csv',index_col=0)\n",
    "plot_heatmap(data.iloc[:,[0,3,5,7,10,13,8,11,6,9]], \"CatCrossDiT\")\n",
    "data = pd.read_csv('data/result/AdaDiT_mysplit.csv',index_col=0)\n",
    "plot_heatmap(data.iloc[:,[0,3,5,7,10,13,8,11,6,9]], \"AdaDiT\")"
   ]
  },
  {
   "cell_type": "markdown",
   "metadata": {},
   "source": [
    "# Plot comparative metrics between two methods"
   ]
  },
  {
   "cell_type": "code",
   "execution_count": null,
   "metadata": {},
   "outputs": [],
   "source": [
    "cmp_methods_mysplit(\"CrossDiT\", \"CatCrossDiT\")"
   ]
  }
 ],
 "metadata": {
  "kernelspec": {
   "display_name": "xenium",
   "language": "python",
   "name": "python3"
  },
  "language_info": {
   "codemirror_mode": {
    "name": "ipython",
    "version": 3
   },
   "file_extension": ".py",
   "mimetype": "text/x-python",
   "name": "python",
   "nbconvert_exporter": "python",
   "pygments_lexer": "ipython3",
   "version": "3.9.18"
  }
 },
 "nbformat": 4,
 "nbformat_minor": 2
}
